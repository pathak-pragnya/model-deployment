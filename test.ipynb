{
 "cells": [
  {
   "cell_type": "code",
   "execution_count": 36,
   "id": "56149aae",
   "metadata": {},
   "outputs": [],
   "source": [
    "import requests\n",
    "import json"
   ]
  },
  {
   "cell_type": "code",
   "execution_count": 37,
   "id": "6a847a45",
   "metadata": {},
   "outputs": [],
   "source": [
    "url = 'http://0.0.0.0:8080/search'"
   ]
  },
  {
   "cell_type": "code",
   "execution_count": 38,
   "id": "7c53be73",
   "metadata": {},
   "outputs": [],
   "source": [
    "q = \"text embeddings\""
   ]
  },
  {
   "cell_type": "code",
   "execution_count": 39,
   "id": "c4414ac3",
   "metadata": {},
   "outputs": [],
   "source": [
    "params = {\"query\": q}\n",
    "response = requests.get(url, params=params)"
   ]
  },
  {
   "cell_type": "code",
   "execution_count": 40,
   "id": "d1500cbd",
   "metadata": {},
   "outputs": [
    {
     "data": {
      "text/plain": [
       "['Text Embeddings, Classification, and Semantic Search (w/ Python Code)',\n",
       " 'A Practical Introduction to Large Language Models (LLMs)',\n",
       " 'The Hugging Face Transformers Library | Example Code + Chatbot UI with Gradio',\n",
       " 'How to Improve LLMs with RAG (Overview + Python Code)',\n",
       " 'LLMs EXPLAINED in 60 seconds #ai']"
      ]
     },
     "execution_count": 40,
     "metadata": {},
     "output_type": "execute_result"
    }
   ],
   "source": [
    "json.loads(response.text)['title']"
   ]
  },
  {
   "cell_type": "code",
   "execution_count": 23,
   "id": "c4570667",
   "metadata": {},
   "outputs": [
    {
     "data": {
      "text/plain": [
       "<Response [500]>"
      ]
     },
     "execution_count": 23,
     "metadata": {},
     "output_type": "execute_result"
    }
   ],
   "source": [
    "response"
   ]
  },
  {
   "cell_type": "code",
   "execution_count": null,
   "id": "6c97ac66",
   "metadata": {},
   "outputs": [],
   "source": []
  }
 ],
 "metadata": {
  "kernelspec": {
   "display_name": "Python 3",
   "language": "python",
   "name": "python3"
  },
  "language_info": {
   "codemirror_mode": {
    "name": "ipython",
    "version": 3
   },
   "file_extension": ".py",
   "mimetype": "text/x-python",
   "name": "python",
   "nbconvert_exporter": "python",
   "pygments_lexer": "ipython3",
   "version": "3.12.1"
  }
 },
 "nbformat": 4,
 "nbformat_minor": 5
}
